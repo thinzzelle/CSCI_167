{
  "cells": [
    {
      "cell_type": "markdown",
      "metadata": {
        "colab_type": "text",
        "id": "view-in-github"
      },
      "source": [
        "<a href=\"https://colab.research.google.com/github/udlbook/udlbook/blob/main/Notebooks/Chap08/8_1_MNIST_1D_Performance.ipynb\" target=\"_parent\"><img src=\"https://colab.research.google.com/assets/colab-badge.svg\" alt=\"Open In Colab\"/></a>"
      ]
    },
    {
      "cell_type": "markdown",
      "metadata": {
        "id": "L6chybAVFJW2"
      },
      "source": [
        "# **Notebook 8.1: MNIST_1D_Performance**\n",
        "\n",
        "This notebook runs a simple neural network on the MNIST1D dataset as in figure 8.2a. It uses code from https://github.com/greydanus/mnist1d to generate the data.\n",
        "\n",
        "Work through the cells below, running each cell in turn. In various places you will see the words \"TO DO\". Follow the instructions at these places and make predictions about what is going to happen or write code to complete the functions.\n",
        "\n",
        "Contact me at udlbookmail@gmail.com if you find any mistakes or have any suggestions."
      ]
    },
    {
      "cell_type": "code",
      "execution_count": 5,
      "metadata": {
        "id": "ifVjS4cTOqKz"
      },
      "outputs": [
        {
          "name": "stdout",
          "output_type": "stream",
          "text": [
            "Collecting git+https://github.com/greydanus/mnist1dNote: you may need to restart the kernel to use updated packages.\n"
          ]
        },
        {
          "name": "stderr",
          "output_type": "stream",
          "text": [
            "  Running command git clone --filter=blob:none --quiet https://github.com/greydanus/mnist1d 'C:\\Users\\quris\\AppData\\Local\\Temp\\pip-req-build-_6zv451e'\n"
          ]
        },
        {
          "name": "stdout",
          "output_type": "stream",
          "text": [
            "\n",
            "  Cloning https://github.com/greydanus/mnist1d to c:\\users\\quris\\appdata\\local\\temp\\pip-req-build-_6zv451e\n",
            "  Resolved https://github.com/greydanus/mnist1d to commit 68cb6b2d1d3a956cc2e9035e5a9860b66e33d642\n",
            "  Installing build dependencies: started\n",
            "  Installing build dependencies: finished with status 'done'\n",
            "  Getting requirements to build wheel: started\n",
            "  Getting requirements to build wheel: finished with status 'done'\n",
            "  Preparing metadata (pyproject.toml): started\n",
            "  Preparing metadata (pyproject.toml): finished with status 'done'\n",
            "Requirement already satisfied: requests in c:\\users\\quris\\appdata\\local\\programs\\python\\python312\\lib\\site-packages (from mnist1d==0.0.2.post15) (2.32.3)\n",
            "Requirement already satisfied: numpy in c:\\users\\quris\\appdata\\local\\programs\\python\\python312\\lib\\site-packages (from mnist1d==0.0.2.post15) (2.1.0)\n",
            "Requirement already satisfied: matplotlib in c:\\users\\quris\\appdata\\local\\programs\\python\\python312\\lib\\site-packages (from mnist1d==0.0.2.post15) (3.9.2)\n",
            "Requirement already satisfied: scipy in c:\\users\\quris\\appdata\\local\\programs\\python\\python312\\lib\\site-packages (from mnist1d==0.0.2.post15) (1.14.1)\n",
            "Requirement already satisfied: contourpy>=1.0.1 in c:\\users\\quris\\appdata\\local\\programs\\python\\python312\\lib\\site-packages (from matplotlib->mnist1d==0.0.2.post15) (1.3.0)\n",
            "Requirement already satisfied: cycler>=0.10 in c:\\users\\quris\\appdata\\local\\programs\\python\\python312\\lib\\site-packages (from matplotlib->mnist1d==0.0.2.post15) (0.12.1)\n",
            "Requirement already satisfied: fonttools>=4.22.0 in c:\\users\\quris\\appdata\\local\\programs\\python\\python312\\lib\\site-packages (from matplotlib->mnist1d==0.0.2.post15) (4.53.1)\n",
            "Requirement already satisfied: kiwisolver>=1.3.1 in c:\\users\\quris\\appdata\\local\\programs\\python\\python312\\lib\\site-packages (from matplotlib->mnist1d==0.0.2.post15) (1.4.5)\n",
            "Requirement already satisfied: packaging>=20.0 in c:\\users\\quris\\appdata\\local\\programs\\python\\python312\\lib\\site-packages (from matplotlib->mnist1d==0.0.2.post15) (24.1)\n",
            "Requirement already satisfied: pillow>=8 in c:\\users\\quris\\appdata\\local\\programs\\python\\python312\\lib\\site-packages (from matplotlib->mnist1d==0.0.2.post15) (10.4.0)\n",
            "Requirement already satisfied: pyparsing>=2.3.1 in c:\\users\\quris\\appdata\\local\\programs\\python\\python312\\lib\\site-packages (from matplotlib->mnist1d==0.0.2.post15) (3.1.4)\n",
            "Requirement already satisfied: python-dateutil>=2.7 in c:\\users\\quris\\appdata\\local\\programs\\python\\python312\\lib\\site-packages (from matplotlib->mnist1d==0.0.2.post15) (2.9.0.post0)\n",
            "Requirement already satisfied: charset-normalizer<4,>=2 in c:\\users\\quris\\appdata\\local\\programs\\python\\python312\\lib\\site-packages (from requests->mnist1d==0.0.2.post15) (3.3.2)\n",
            "Requirement already satisfied: idna<4,>=2.5 in c:\\users\\quris\\appdata\\local\\programs\\python\\python312\\lib\\site-packages (from requests->mnist1d==0.0.2.post15) (3.8)\n",
            "Requirement already satisfied: urllib3<3,>=1.21.1 in c:\\users\\quris\\appdata\\local\\programs\\python\\python312\\lib\\site-packages (from requests->mnist1d==0.0.2.post15) (2.2.2)\n",
            "Requirement already satisfied: certifi>=2017.4.17 in c:\\users\\quris\\appdata\\local\\programs\\python\\python312\\lib\\site-packages (from requests->mnist1d==0.0.2.post15) (2024.7.4)\n",
            "Requirement already satisfied: six>=1.5 in c:\\users\\quris\\appdata\\local\\programs\\python\\python312\\lib\\site-packages (from python-dateutil>=2.7->matplotlib->mnist1d==0.0.2.post15) (1.16.0)\n"
          ]
        }
      ],
      "source": [
        "# Run this if you're in a Colab to install MNIST 1D repository\n",
        "%pip install git+https://github.com/greydanus/mnist1d"
      ]
    },
    {
      "cell_type": "code",
      "execution_count": 9,
      "metadata": {
        "id": "qyE7G1StPIqO"
      },
      "outputs": [
        {
          "name": "stdout",
          "output_type": "stream",
          "text": [
            "Collecting torch\n",
            "  Using cached torch-2.4.1-cp312-cp312-win_amd64.whl.metadata (27 kB)\n",
            "Collecting filelock (from torch)\n",
            "  Using cached filelock-3.16.1-py3-none-any.whl.metadata (2.9 kB)\n",
            "Requirement already satisfied: typing-extensions>=4.8.0 in c:\\users\\quris\\appdata\\local\\programs\\python\\python312\\lib\\site-packages (from torch) (4.12.2)\n",
            "Requirement already satisfied: sympy in c:\\users\\quris\\appdata\\local\\programs\\python\\python312\\lib\\site-packages (from torch) (1.13.3)\n",
            "Requirement already satisfied: networkx in c:\\users\\quris\\appdata\\local\\programs\\python\\python312\\lib\\site-packages (from torch) (3.3)\n",
            "Requirement already satisfied: jinja2 in c:\\users\\quris\\appdata\\local\\programs\\python\\python312\\lib\\site-packages (from torch) (3.1.4)\n",
            "Collecting fsspec (from torch)\n",
            "  Using cached fsspec-2024.9.0-py3-none-any.whl.metadata (11 kB)\n",
            "Requirement already satisfied: setuptools in c:\\users\\quris\\appdata\\local\\programs\\python\\python312\\lib\\site-packages (from torch) (74.0.0)\n",
            "Requirement already satisfied: MarkupSafe>=2.0 in c:\\users\\quris\\appdata\\local\\programs\\python\\python312\\lib\\site-packages (from jinja2->torch) (2.1.5)\n",
            "Requirement already satisfied: mpmath<1.4,>=1.1.0 in c:\\users\\quris\\appdata\\local\\programs\\python\\python312\\lib\\site-packages (from sympy->torch) (1.3.0)\n",
            "Using cached torch-2.4.1-cp312-cp312-win_amd64.whl (199.4 MB)\n",
            "Using cached filelock-3.16.1-py3-none-any.whl (16 kB)\n",
            "Using cached fsspec-2024.9.0-py3-none-any.whl (179 kB)\n",
            "Installing collected packages: fsspec, filelock, torch\n",
            "Successfully installed filelock-3.16.1 fsspec-2024.9.0 torch-2.4.1\n"
          ]
        }
      ],
      "source": [
        "!pip install torch\n",
        "import torch, torch.nn as nn\n",
        "from torch.utils.data import TensorDataset, DataLoader\n",
        "from torch.optim.lr_scheduler import StepLR\n",
        "import numpy as np\n",
        "import matplotlib.pyplot as plt\n",
        "import mnist1d"
      ]
    },
    {
      "cell_type": "markdown",
      "metadata": {
        "id": "F7LNq72SP6jO"
      },
      "source": [
        "Let's generate a training and test dataset using the MNIST1D code.  The dataset gets saved as a .pkl file so it doesn't have to be regenerated each time."
      ]
    },
    {
      "cell_type": "code",
      "execution_count": 10,
      "metadata": {
        "id": "YLxf7dJfPaqw"
      },
      "outputs": [
        {
          "name": "stdout",
          "output_type": "stream",
          "text": [
            "Did or could not load data from ./mnist1d_data.pkl. Rebuilding dataset...\n",
            "Examples in training set: 4000\n",
            "Examples in test set: 1000\n",
            "Length of each example: 40\n"
          ]
        }
      ],
      "source": [
        "args = mnist1d.data.get_dataset_args()\n",
        "data = mnist1d.data.get_dataset(args, path='./mnist1d_data.pkl', download=False, regenerate=False)\n",
        "\n",
        "# The training and test input and outputs are in\n",
        "# data['x'], data['y'], data['x_test'], and data['y_test']\n",
        "print(\"Examples in training set: {}\".format(len(data['y'])))\n",
        "print(\"Examples in test set: {}\".format(len(data['y_test'])))\n",
        "print(\"Length of each example: {}\".format(data['x'].shape[-1]))"
      ]
    },
    {
      "cell_type": "code",
      "execution_count": 11,
      "metadata": {
        "id": "FxaB5vc0uevl"
      },
      "outputs": [
        {
          "name": "stdout",
          "output_type": "stream",
          "text": [
            "Initializing layer\n",
            "Initialized layer\n",
            "Initializing layer\n",
            "Initializing layer\n",
            "Initialized layer\n",
            "Initializing layer\n",
            "Initializing layer\n",
            "Initialized layer\n",
            "Initializing layer\n"
          ]
        },
        {
          "data": {
            "text/plain": [
              "Sequential(\n",
              "  (0): Linear(in_features=40, out_features=100, bias=True)\n",
              "  (1): ReLU()\n",
              "  (2): Linear(in_features=100, out_features=100, bias=True)\n",
              "  (3): ReLU()\n",
              "  (4): Linear(in_features=100, out_features=10, bias=True)\n",
              ")"
            ]
          },
          "execution_count": 11,
          "metadata": {},
          "output_type": "execute_result"
        }
      ],
      "source": [
        "D_i = 40    # Input dimensions\n",
        "D_k = 100   # Hidden dimensions\n",
        "D_o = 10    # Output dimensions\n",
        "# TO DO:\n",
        "# Define a model with two hidden layers of size 100\n",
        "# And ReLU activations between them\n",
        "# Replace this line (see Figure 7.8 of book for help):\n",
        "model = nn.Sequential(\n",
        "    nn.Linear(D_i, D_k),\n",
        "    nn.ReLU(),\n",
        "    nn.Linear(D_k, D_k),\n",
        "    nn.ReLU(),\n",
        "    nn.Linear(D_k, D_o));\n",
        "\n",
        "\n",
        "def weights_init(layer_in):\n",
        "  # TO DO:\n",
        "  # Initialize the parameters with He initialization\n",
        "  # Replace this line (see figure 7.8 of book for help)\n",
        "  print(\"Initializing layer\")\n",
        "  if isinstance (layer_in, nn.Linear):\n",
        "    nn.init.kaiming_normal_(layer_in.weight)\n",
        "    layer_in.bias.data.fill_(0.0)\n",
        "    print(\"Initialized layer\")\n",
        "\n",
        "\n",
        "# Call the function you just defined\n",
        "model.apply(weights_init)\n"
      ]
    },
    {
      "cell_type": "code",
      "execution_count": 12,
      "metadata": {
        "id": "_rX6N3VyyQTY"
      },
      "outputs": [
        {
          "name": "stdout",
          "output_type": "stream",
          "text": [
            "Initializing layer\n",
            "Initialized layer\n",
            "Initializing layer\n",
            "Initializing layer\n",
            "Initialized layer\n",
            "Initializing layer\n",
            "Initializing layer\n",
            "Initialized layer\n",
            "Initializing layer\n",
            "Epoch     0, train loss 1.600529, train error 61.80,  test loss 1.659498, test error 66.40\n",
            "Epoch     1, train loss 1.335509, train error 49.62,  test loss 1.484973, test error 58.40\n",
            "Epoch     2, train loss 1.129449, train error 40.90,  test loss 1.327556, test error 52.10\n",
            "Epoch     3, train loss 0.971972, train error 34.62,  test loss 1.212934, test error 46.70\n",
            "Epoch     4, train loss 0.848217, train error 29.25,  test loss 1.165484, test error 45.50\n",
            "Epoch     5, train loss 0.740930, train error 25.53,  test loss 1.095601, test error 41.10\n",
            "Epoch     6, train loss 0.691938, train error 25.28,  test loss 1.119723, test error 42.90\n",
            "Epoch     7, train loss 0.611200, train error 21.30,  test loss 1.129205, test error 42.50\n",
            "Epoch     8, train loss 0.543595, train error 18.32,  test loss 1.119280, test error 41.90\n",
            "Epoch     9, train loss 0.460279, train error 14.38,  test loss 1.114903, test error 40.20\n",
            "Epoch    10, train loss 0.387495, train error 10.95,  test loss 1.046388, test error 38.10\n",
            "Epoch    11, train loss 0.336815, train error 8.60,  test loss 1.056024, test error 39.10\n",
            "Epoch    12, train loss 0.312135, train error 7.72,  test loss 1.094445, test error 40.60\n",
            "Epoch    13, train loss 0.292481, train error 7.90,  test loss 1.122696, test error 39.50\n",
            "Epoch    14, train loss 0.257768, train error 5.78,  test loss 1.115614, test error 38.80\n",
            "Epoch    15, train loss 0.235049, train error 4.90,  test loss 1.135844, test error 38.70\n",
            "Epoch    16, train loss 0.226596, train error 5.32,  test loss 1.183658, test error 38.40\n",
            "Epoch    17, train loss 0.197096, train error 3.55,  test loss 1.166136, test error 39.60\n",
            "Epoch    18, train loss 0.183153, train error 3.50,  test loss 1.239632, test error 38.70\n",
            "Epoch    19, train loss 0.164713, train error 2.75,  test loss 1.187896, test error 37.70\n",
            "Epoch    20, train loss 0.135045, train error 1.25,  test loss 1.219919, test error 39.10\n",
            "Epoch    21, train loss 0.128979, train error 1.03,  test loss 1.217909, test error 38.30\n",
            "Epoch    22, train loss 0.120919, train error 0.85,  test loss 1.243718, test error 38.20\n",
            "Epoch    23, train loss 0.115344, train error 0.72,  test loss 1.258052, test error 38.30\n",
            "Epoch    24, train loss 0.110206, train error 0.72,  test loss 1.279523, test error 38.80\n",
            "Epoch    25, train loss 0.102908, train error 0.53,  test loss 1.277155, test error 38.10\n",
            "Epoch    26, train loss 0.097465, train error 0.47,  test loss 1.286078, test error 38.10\n",
            "Epoch    27, train loss 0.093470, train error 0.45,  test loss 1.315827, test error 38.40\n",
            "Epoch    28, train loss 0.087393, train error 0.32,  test loss 1.319863, test error 37.70\n",
            "Epoch    29, train loss 0.083671, train error 0.35,  test loss 1.339848, test error 38.80\n",
            "Epoch    30, train loss 0.080168, train error 0.30,  test loss 1.331272, test error 38.10\n",
            "Epoch    31, train loss 0.077694, train error 0.30,  test loss 1.341340, test error 38.30\n",
            "Epoch    32, train loss 0.075610, train error 0.20,  test loss 1.347714, test error 38.50\n",
            "Epoch    33, train loss 0.073986, train error 0.18,  test loss 1.358847, test error 38.70\n",
            "Epoch    34, train loss 0.072363, train error 0.18,  test loss 1.366330, test error 38.60\n",
            "Epoch    35, train loss 0.070799, train error 0.15,  test loss 1.369158, test error 38.00\n",
            "Epoch    36, train loss 0.069682, train error 0.15,  test loss 1.375972, test error 38.00\n",
            "Epoch    37, train loss 0.067804, train error 0.12,  test loss 1.382780, test error 38.50\n",
            "Epoch    38, train loss 0.065832, train error 0.12,  test loss 1.390337, test error 38.40\n",
            "Epoch    39, train loss 0.065319, train error 0.12,  test loss 1.386960, test error 38.20\n",
            "Epoch    40, train loss 0.063498, train error 0.12,  test loss 1.396628, test error 38.20\n",
            "Epoch    41, train loss 0.062915, train error 0.10,  test loss 1.401493, test error 37.80\n",
            "Epoch    42, train loss 0.062106, train error 0.10,  test loss 1.403885, test error 38.20\n",
            "Epoch    43, train loss 0.061512, train error 0.10,  test loss 1.405447, test error 38.00\n",
            "Epoch    44, train loss 0.060732, train error 0.10,  test loss 1.410851, test error 38.30\n",
            "Epoch    45, train loss 0.060136, train error 0.07,  test loss 1.413502, test error 38.10\n",
            "Epoch    46, train loss 0.059512, train error 0.10,  test loss 1.415231, test error 38.20\n",
            "Epoch    47, train loss 0.059000, train error 0.07,  test loss 1.419295, test error 38.20\n",
            "Epoch    48, train loss 0.058263, train error 0.07,  test loss 1.423892, test error 38.20\n",
            "Epoch    49, train loss 0.057692, train error 0.07,  test loss 1.424279, test error 38.50\n"
          ]
        }
      ],
      "source": [
        "# choose cross entropy loss function (equation 5.24)\n",
        "loss_function = torch.nn.CrossEntropyLoss()\n",
        "# construct SGD optimizer and initialize learning rate and momentum\n",
        "optimizer = torch.optim.SGD(model.parameters(), lr = 0.05, momentum=0.9)\n",
        "# object that decreases learning rate by half every 10 epochs\n",
        "scheduler = StepLR(optimizer, step_size=10, gamma=0.5)\n",
        "x_train = torch.tensor(data['x'].astype('float32'))\n",
        "y_train = torch.tensor(data['y'].transpose().astype('int64'))\n",
        "x_test= torch.tensor(data['x_test'].astype('float32'))\n",
        "y_test = torch.tensor(data['y_test'].astype('int64'))\n",
        "\n",
        "# load the data into a class that creates the batches\n",
        "data_loader = DataLoader(TensorDataset(x_train,y_train), batch_size=100, shuffle=True, worker_init_fn=np.random.seed(1))\n",
        "\n",
        "# Initialize model weights\n",
        "model.apply(weights_init)\n",
        "\n",
        "# loop over the dataset n_epoch times\n",
        "n_epoch = 50\n",
        "# store the loss and the % correct at each epoch\n",
        "losses_train = np.zeros((n_epoch))\n",
        "errors_train = np.zeros((n_epoch))\n",
        "losses_test = np.zeros((n_epoch))\n",
        "errors_test = np.zeros((n_epoch))\n",
        "\n",
        "for epoch in range(n_epoch):\n",
        "  # loop over batches\n",
        "  for i, batch in enumerate(data_loader):\n",
        "    # retrieve inputs and labels for this batch\n",
        "    x_batch, y_batch = batch\n",
        "    # zero the parameter gradients\n",
        "    optimizer.zero_grad()\n",
        "    # forward pass -- calculate model output\n",
        "    pred = model(x_batch)\n",
        "    # compute the loss\n",
        "    loss = loss_function(pred, y_batch)\n",
        "    # backward pass\n",
        "    loss.backward()\n",
        "    # SGD update\n",
        "    optimizer.step()\n",
        "\n",
        "  # Run whole dataset to get statistics -- normally wouldn't do this\n",
        "  pred_train = model(x_train)\n",
        "  pred_test = model(x_test)\n",
        "  _, predicted_train_class = torch.max(pred_train.data, 1)\n",
        "  _, predicted_test_class = torch.max(pred_test.data, 1)\n",
        "  errors_train[epoch] = 100 - 100 * (predicted_train_class == y_train).float().sum() / len(y_train)\n",
        "  errors_test[epoch]= 100 - 100 * (predicted_test_class == y_test).float().sum() / len(y_test)\n",
        "  losses_train[epoch] = loss_function(pred_train, y_train).item()\n",
        "  losses_test[epoch]= loss_function(pred_test, y_test).item()\n",
        "  print(f'Epoch {epoch:5d}, train loss {losses_train[epoch]:.6f}, train error {errors_train[epoch]:3.2f},  test loss {losses_test[epoch]:.6f}, test error {errors_test[epoch]:3.2f}')\n",
        "\n",
        "  # tell scheduler to consider updating learning rate\n",
        "  scheduler.step()"
      ]
    },
    {
      "cell_type": "code",
      "execution_count": 13,
      "metadata": {
        "id": "yI-l6kA_EH9G"
      },
      "outputs": [
        {
          "data": {
            "image/png": "[encoded data removed]",
            "text/plain": [
              "<Figure size 640x480 with 1 Axes>"
            ]
          },
          "metadata": {},
          "output_type": "display_data"
        },
        {
          "data": {
            "image/png": "[encoded data removed]",
            "text/plain": [
              "<Figure size 640x480 with 1 Axes>"
            ]
          },
          "metadata": {},
          "output_type": "display_data"
        }
      ],
      "source": [
        "# Plot the results\n",
        "fig, ax = plt.subplots()\n",
        "ax.plot(errors_train,'r-',label='train')\n",
        "ax.plot(errors_test,'b-',label='test')\n",
        "ax.set_ylim(0,100); ax.set_xlim(0,n_epoch)\n",
        "ax.set_xlabel('Epoch'); ax.set_ylabel('Error')\n",
        "ax.set_title('TrainError %3.2f, Test Error %3.2f'%(errors_train[-1],errors_test[-1]))\n",
        "ax.legend()\n",
        "plt.show()\n",
        "\n",
        "# Plot the results\n",
        "fig, ax = plt.subplots()\n",
        "ax.plot(losses_train,'r-',label='train')\n",
        "ax.plot(losses_test,'b-',label='test')\n",
        "ax.set_xlim(0,n_epoch)\n",
        "ax.set_xlabel('Epoch'); ax.set_ylabel('Loss')\n",
        "ax.set_title('Train loss %3.2f, Test loss %3.2f'%(losses_train[-1],losses_test[-1]))\n",
        "ax.legend()\n",
        "plt.show()"
      ]
    },
    {
      "cell_type": "markdown",
      "metadata": {
        "id": "q-yT6re6GZS4"
      },
      "source": [
        "**TO DO**\n",
        "\n",
        "Play with the model -- try changing the number of layers, hidden units, learning rate, batch size, momentum or anything else you like.  See if you can improve the test results.\n",
        "\n",
        "Is it a good idea to optimize the hyperparameters in this way?  Will the final result be a good estimate of the true test performance?"
      ]
    }
  ],
  "metadata": {
    "accelerator": "GPU",
    "colab": {
      "authorship_tag": "ABX9TyOuKMUcKfOIhIL2qTX9jJCy",
      "gpuType": "T4",
      "include_colab_link": true,
      "provenance": []
    },
    "kernelspec": {
      "display_name": "Python 3",
      "name": "python3"
    },
    "language_info": {
      "codemirror_mode": {
        "name": "ipython",
        "version": 3
      },
      "file_extension": ".py",
      "mimetype": "text/x-python",
      "name": "python",
      "nbconvert_exporter": "python",
      "pygments_lexer": "ipython3",
      "version": "3.12.1"
    }
  },
  "nbformat": 4,
  "nbformat_minor": 0
}
