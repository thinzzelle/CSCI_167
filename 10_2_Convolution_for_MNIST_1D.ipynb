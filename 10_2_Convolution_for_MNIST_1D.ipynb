{
  "cells": [
    {
      "cell_type": "markdown",
      "metadata": {
        "colab_type": "text",
        "id": "view-in-github"
      },
      "source": [
        "<a href=\"https://colab.research.google.com/github/udlbook/udlbook/blob/main/Notebooks/Chap10/10_2_Convolution_for_MNIST_1D.ipynb\" target=\"_parent\"><img src=\"https://colab.research.google.com/assets/colab-badge.svg\" alt=\"Open In Colab\"/></a>"
      ]
    },
    {
      "cell_type": "markdown",
      "metadata": {
        "id": "t9vk9Elugvmi"
      },
      "source": [
        "# **Notebook 10.2: Convolution for MNIST-1D**\n",
        "\n",
        "This notebook investigates a 1D convolutional network for MNIST-1D as in figure 10.7 and 10.8a.\n",
        "\n",
        "Work through the cells below, running each cell in turn. In various places you will see the words \"TO DO\". Follow the instructions at these places and make predictions about what is going to happen or write code to complete the functions.\n",
        "\n",
        "Contact me at udlbookmail@gmail.com if you find any mistakes or have any suggestions.\n",
        "\n"
      ]
    },
    {
      "cell_type": "code",
      "execution_count": 5,
      "metadata": {
        "id": "D5yLObtZCi9J"
      },
      "outputs": [
        {
          "name": "stdout",
          "output_type": "stream",
          "text": [
            "Collecting git+https://github.com/greydanus/mnist1d"
          ]
        },
        {
          "name": "stderr",
          "output_type": "stream",
          "text": [
            "  Running command git clone --filter=blob:none --quiet https://github.com/greydanus/mnist1d 'C:\\Users\\quris\\AppData\\Local\\Temp\\pip-req-build-h1ge0eid'\n",
            "\n",
            "[notice] A new release of pip is available: 24.2 -> 24.3.1\n",
            "[notice] To update, run: python.exe -m pip install --upgrade pip\n"
          ]
        },
        {
          "name": "stdout",
          "output_type": "stream",
          "text": [
            "\n",
            "  Cloning https://github.com/greydanus/mnist1d to c:\\users\\quris\\appdata\\local\\temp\\pip-req-build-h1ge0eid\n",
            "  Resolved https://github.com/greydanus/mnist1d to commit 7878d96082abd200c546a07a4101fa90b30fdf7e\n",
            "  Installing build dependencies: started\n",
            "  Installing build dependencies: finished with status 'done'\n",
            "  Getting requirements to build wheel: started\n",
            "  Getting requirements to build wheel: finished with status 'done'\n",
            "  Preparing metadata (pyproject.toml): started\n",
            "  Preparing metadata (pyproject.toml): finished with status 'done'\n",
            "Requirement already satisfied: requests in c:\\users\\quris\\appdata\\local\\programs\\python\\python312\\lib\\site-packages (from mnist1d==0.0.2.post16) (2.32.3)\n",
            "Requirement already satisfied: numpy in c:\\users\\quris\\appdata\\local\\programs\\python\\python312\\lib\\site-packages (from mnist1d==0.0.2.post16) (2.1.0)\n",
            "Requirement already satisfied: matplotlib in c:\\users\\quris\\appdata\\local\\programs\\python\\python312\\lib\\site-packages (from mnist1d==0.0.2.post16) (3.9.2)\n",
            "Requirement already satisfied: scipy in c:\\users\\quris\\appdata\\local\\programs\\python\\python312\\lib\\site-packages (from mnist1d==0.0.2.post16) (1.14.1)\n",
            "Requirement already satisfied: contourpy>=1.0.1 in c:\\users\\quris\\appdata\\local\\programs\\python\\python312\\lib\\site-packages (from matplotlib->mnist1d==0.0.2.post16) (1.3.0)\n",
            "Requirement already satisfied: cycler>=0.10 in c:\\users\\quris\\appdata\\local\\programs\\python\\python312\\lib\\site-packages (from matplotlib->mnist1d==0.0.2.post16) (0.12.1)\n",
            "Requirement already satisfied: fonttools>=4.22.0 in c:\\users\\quris\\appdata\\local\\programs\\python\\python312\\lib\\site-packages (from matplotlib->mnist1d==0.0.2.post16) (4.53.1)\n",
            "Requirement already satisfied: kiwisolver>=1.3.1 in c:\\users\\quris\\appdata\\local\\programs\\python\\python312\\lib\\site-packages (from matplotlib->mnist1d==0.0.2.post16) (1.4.5)\n",
            "Requirement already satisfied: packaging>=20.0 in c:\\users\\quris\\appdata\\local\\programs\\python\\python312\\lib\\site-packages (from matplotlib->mnist1d==0.0.2.post16) (24.1)\n",
            "Requirement already satisfied: pillow>=8 in c:\\users\\quris\\appdata\\local\\programs\\python\\python312\\lib\\site-packages (from matplotlib->mnist1d==0.0.2.post16) (10.4.0)\n",
            "Requirement already satisfied: pyparsing>=2.3.1 in c:\\users\\quris\\appdata\\local\\programs\\python\\python312\\lib\\site-packages (from matplotlib->mnist1d==0.0.2.post16) (3.1.4)\n",
            "Requirement already satisfied: python-dateutil>=2.7 in c:\\users\\quris\\appdata\\local\\programs\\python\\python312\\lib\\site-packages (from matplotlib->mnist1d==0.0.2.post16) (2.9.0.post0)\n",
            "Requirement already satisfied: charset-normalizer<4,>=2 in c:\\users\\quris\\appdata\\local\\programs\\python\\python312\\lib\\site-packages (from requests->mnist1d==0.0.2.post16) (3.3.2)\n",
            "Requirement already satisfied: idna<4,>=2.5 in c:\\users\\quris\\appdata\\local\\programs\\python\\python312\\lib\\site-packages (from requests->mnist1d==0.0.2.post16) (3.8)\n",
            "Requirement already satisfied: urllib3<3,>=1.21.1 in c:\\users\\quris\\appdata\\local\\programs\\python\\python312\\lib\\site-packages (from requests->mnist1d==0.0.2.post16) (2.2.2)\n",
            "Requirement already satisfied: certifi>=2017.4.17 in c:\\users\\quris\\appdata\\local\\programs\\python\\python312\\lib\\site-packages (from requests->mnist1d==0.0.2.post16) (2024.7.4)\n",
            "Requirement already satisfied: six>=1.5 in c:\\users\\quris\\appdata\\local\\programs\\python\\python312\\lib\\site-packages (from python-dateutil>=2.7->matplotlib->mnist1d==0.0.2.post16) (1.16.0)\n"
          ]
        }
      ],
      "source": [
        "# Run this if you're in a Colab to install MNIST 1D repository\n",
        "!pip install git+https://github.com/greydanus/mnist1d"
      ]
    },
    {
      "cell_type": "code",
      "execution_count": 6,
      "metadata": {
        "id": "YrXWAH7sUWvU"
      },
      "outputs": [],
      "source": [
        "import numpy as np\n",
        "import os\n",
        "import torch, torch.nn as nn\n",
        "from torch.utils.data import TensorDataset, DataLoader\n",
        "from torch.optim.lr_scheduler import StepLR\n",
        "import matplotlib.pyplot as plt\n",
        "import mnist1d\n",
        "import random"
      ]
    },
    {
      "cell_type": "code",
      "execution_count": 7,
      "metadata": {
        "id": "twI72ZCrCt5z"
      },
      "outputs": [
        {
          "name": "stdout",
          "output_type": "stream",
          "text": [
            "Successfully loaded data from ./mnist1d_data.pkl\n",
            "Examples in training set: 4000\n",
            "Examples in test set: 1000\n",
            "Length of each example: 40\n"
          ]
        }
      ],
      "source": [
        "args = mnist1d.data.get_dataset_args()\n",
        "data = mnist1d.data.get_dataset(args, path='./mnist1d_data.pkl', download=False, regenerate=False)\n",
        "\n",
        "# The training and test input and outputs are in\n",
        "# data['x'], data['y'], data['x_test'], and data['y_test']\n",
        "print(\"Examples in training set: {}\".format(len(data['y'])))\n",
        "print(\"Examples in test set: {}\".format(len(data['y_test'])))\n",
        "print(\"Length of each example: {}\".format(data['x'].shape[-1]))"
      ]
    },
    {
      "cell_type": "code",
      "execution_count": 8,
      "metadata": {
        "id": "8bKADvLHbiV5"
      },
      "outputs": [
        {
          "name": "stdout",
          "output_type": "stream",
          "text": [
            "Train data: 4000 examples (columns), each of which has 40 dimensions (rows)\n",
            "Validation data: 1000 examples (columns), each of which has 40 dimensions (rows)\n"
          ]
        }
      ],
      "source": [
        "# Load in the data\n",
        "train_data_x = data['x'].transpose()\n",
        "train_data_y = data['y']\n",
        "val_data_x = data['x_test'].transpose()\n",
        "val_data_y = data['y_test']\n",
        "# Print out sizes\n",
        "print(\"Train data: %d examples (columns), each of which has %d dimensions (rows)\"%((train_data_x.shape[1],train_data_x.shape[0])))\n",
        "print(\"Validation data: %d examples (columns), each of which has %d dimensions (rows)\"%((val_data_x.shape[1],val_data_x.shape[0])))"
      ]
    },
    {
      "cell_type": "markdown",
      "metadata": {
        "id": "_sFvRDGrl4qe"
      },
      "source": [
        "Define the network"
      ]
    },
    {
      "cell_type": "code",
      "execution_count": 9,
      "metadata": {
        "id": "FslroPJJffrh"
      },
      "outputs": [],
      "source": [
        "# There are 40 input dimensions and 10 output dimensions for this data\n",
        "# The inputs correspond to the 40 offsets in the MNIST1D template.\n",
        "D_i = 40\n",
        "# The outputs correspond to the 10 digits\n",
        "D_o = 10\n",
        "\n",
        "\n",
        "# TODO Create a model with the following layers\n",
        "# 1. Convolutional layer, (input=length 40 and 1 channel, kernel size 3, stride 2, padding=\"valid\", 15 output channels )\n",
        "# 2. ReLU\n",
        "# 3. Convolutional layer, (input=length 19 and 15 channels, kernel size 3, stride 2, padding=\"valid\", 15 output channels )\n",
        "# 4. ReLU\n",
        "# 5. Convolutional layer, (input=length 9 and 15 channels, kernel size 3, stride 2, padding=\"valid\", 15 output channels)\n",
        "# 6. ReLU\n",
        "# 7. Flatten (converts 4x15) to length 60\n",
        "# 8. Linear layer (input size = 60, output size = 10)\n",
        "# References:\n",
        "# https://pytorch.org/docs/1.13/generated/torch.nn.Conv1d.html?highlight=conv1d#torch.nn.Conv1d\n",
        "# https://pytorch.org/docs/stable/generated/torch.nn.Flatten.html\n",
        "# https://pytorch.org/docs/1.13/generated/torch.nn.Linear.html?highlight=linear#torch.nn.Linear\n",
        "\n",
        "# NOTE THAT THE CONVOLUTIONAL LAYERS NEED TO TAKE THE NUMBER OF INPUT CHANNELS AS A PARAMETER\n",
        "# AND NOT THE INPUT SIZE.\n",
        "\n",
        "# Replace the following function:\n",
        "model = nn.Sequential(\n",
        "    nn.Conv1d(in_channels=1, out_channels=15, kernel_size=3, stride=2, padding=\"valid\"),\n",
        "    nn.ReLU(),\n",
        "    nn.Conv1d(in_channels=15, out_channels=15, kernel_size=3, stride=2, padding=\"valid\"),\n",
        "    nn.ReLU(),\n",
        "    nn.Conv1d(in_channels=15, out_channels=15, kernel_size=3, stride=2, padding=\"valid\"),\n",
        "    nn.ReLU(),\n",
        "    nn.Flatten(),\n",
        "    nn.Linear(60, D_o))\n",
        "\n",
        "\n",
        "\n"
      ]
    },
    {
      "cell_type": "code",
      "execution_count": 10,
      "metadata": {
        "id": "YgLaex1pfhqz"
      },
      "outputs": [],
      "source": [
        "# He initialization of weights\n",
        "def weights_init(layer_in):\n",
        "  if isinstance(layer_in, nn.Linear):\n",
        "    nn.init.kaiming_uniform_(layer_in.weight)\n",
        "    layer_in.bias.data.fill_(0.0)"
      ]
    },
    {
      "cell_type": "code",
      "execution_count": 12,
      "metadata": {
        "id": "NYw8I_3mmX5c"
      },
      "outputs": [
        {
          "name": "stdout",
          "output_type": "stream",
          "text": [
            "Epoch     0, train loss 0.888456, train error 33.47,  val loss 0.865589, percent error 33.40\n",
            "Epoch     1, train loss 0.449123, train error 15.12,  val loss 0.460258, percent error 16.40\n",
            "Epoch     2, train loss 0.329443, train error 11.57,  val loss 0.393207, percent error 14.10\n",
            "Epoch     3, train loss 0.315755, train error 11.55,  val loss 0.413939, percent error 15.10\n",
            "Epoch     4, train loss 0.229349, train error 7.78,  val loss 0.341884, percent error 11.20\n",
            "Epoch     5, train loss 0.251412, train error 8.85,  val loss 0.380435, percent error 12.90\n",
            "Epoch     6, train loss 0.191622, train error 6.70,  val loss 0.325490, percent error 10.60\n",
            "Epoch     7, train loss 0.173472, train error 5.82,  val loss 0.348518, percent error 11.50\n",
            "Epoch     8, train loss 0.149981, train error 4.82,  val loss 0.336257, percent error 10.80\n",
            "Epoch     9, train loss 0.177192, train error 6.15,  val loss 0.336090, percent error 10.50\n",
            "Epoch    10, train loss 0.149360, train error 5.18,  val loss 0.345374, percent error 11.10\n",
            "Epoch    11, train loss 0.148510, train error 4.90,  val loss 0.347883, percent error 10.60\n",
            "Epoch    12, train loss 0.125621, train error 4.38,  val loss 0.335062, percent error 10.60\n",
            "Epoch    13, train loss 0.117479, train error 4.10,  val loss 0.343956, percent error 10.50\n",
            "Epoch    14, train loss 0.123311, train error 4.03,  val loss 0.351943, percent error 10.80\n",
            "Epoch    15, train loss 0.125547, train error 4.25,  val loss 0.333007, percent error 9.80\n",
            "Epoch    16, train loss 0.094352, train error 3.12,  val loss 0.329005, percent error 9.40\n",
            "Epoch    17, train loss 0.094338, train error 3.18,  val loss 0.325977, percent error 8.70\n",
            "Epoch    18, train loss 0.112351, train error 3.80,  val loss 0.351867, percent error 9.90\n",
            "Epoch    19, train loss 0.096554, train error 3.20,  val loss 0.339683, percent error 9.90\n",
            "Epoch    20, train loss 0.059344, train error 1.60,  val loss 0.329993, percent error 9.40\n",
            "Epoch    21, train loss 0.049076, train error 1.15,  val loss 0.310341, percent error 9.10\n",
            "Epoch    22, train loss 0.051027, train error 1.32,  val loss 0.317951, percent error 9.10\n",
            "Epoch    23, train loss 0.062006, train error 1.93,  val loss 0.353788, percent error 9.70\n",
            "Epoch    24, train loss 0.043447, train error 1.03,  val loss 0.327345, percent error 9.10\n",
            "Epoch    25, train loss 0.039966, train error 1.00,  val loss 0.321009, percent error 9.10\n",
            "Epoch    26, train loss 0.037630, train error 0.90,  val loss 0.327302, percent error 9.20\n",
            "Epoch    27, train loss 0.058381, train error 1.95,  val loss 0.383562, percent error 9.60\n",
            "Epoch    28, train loss 0.046669, train error 1.12,  val loss 0.358592, percent error 9.10\n",
            "Epoch    29, train loss 0.036850, train error 0.80,  val loss 0.351822, percent error 9.90\n",
            "Epoch    30, train loss 0.032887, train error 0.75,  val loss 0.351496, percent error 9.00\n",
            "Epoch    31, train loss 0.030854, train error 0.68,  val loss 0.349962, percent error 9.00\n",
            "Epoch    32, train loss 0.032364, train error 0.65,  val loss 0.353907, percent error 9.30\n",
            "Epoch    33, train loss 0.034524, train error 0.90,  val loss 0.367276, percent error 9.50\n",
            "Epoch    34, train loss 0.029783, train error 0.47,  val loss 0.379561, percent error 9.80\n",
            "Epoch    35, train loss 0.031967, train error 0.68,  val loss 0.371240, percent error 9.30\n",
            "Epoch    36, train loss 0.028464, train error 0.60,  val loss 0.381257, percent error 9.40\n",
            "Epoch    37, train loss 0.027033, train error 0.62,  val loss 0.388503, percent error 9.60\n",
            "Epoch    38, train loss 0.023178, train error 0.35,  val loss 0.389427, percent error 9.80\n",
            "Epoch    39, train loss 0.027749, train error 0.53,  val loss 0.404189, percent error 9.20\n",
            "Epoch    40, train loss 0.019781, train error 0.30,  val loss 0.387717, percent error 9.20\n",
            "Epoch    41, train loss 0.019546, train error 0.30,  val loss 0.396356, percent error 9.40\n",
            "Epoch    42, train loss 0.018239, train error 0.25,  val loss 0.394561, percent error 9.30\n",
            "Epoch    43, train loss 0.017482, train error 0.20,  val loss 0.396641, percent error 9.10\n",
            "Epoch    44, train loss 0.019759, train error 0.22,  val loss 0.407763, percent error 9.40\n",
            "Epoch    45, train loss 0.016993, train error 0.22,  val loss 0.404748, percent error 9.20\n",
            "Epoch    46, train loss 0.017692, train error 0.18,  val loss 0.409507, percent error 9.40\n",
            "Epoch    47, train loss 0.016360, train error 0.22,  val loss 0.404788, percent error 9.40\n",
            "Epoch    48, train loss 0.016474, train error 0.25,  val loss 0.413152, percent error 9.60\n",
            "Epoch    49, train loss 0.015972, train error 0.25,  val loss 0.411020, percent error 9.40\n",
            "Epoch    50, train loss 0.015180, train error 0.18,  val loss 0.411498, percent error 8.80\n",
            "Epoch    51, train loss 0.015401, train error 0.15,  val loss 0.416253, percent error 9.50\n",
            "Epoch    52, train loss 0.015237, train error 0.18,  val loss 0.416928, percent error 9.20\n",
            "Epoch    53, train loss 0.014624, train error 0.18,  val loss 0.424381, percent error 9.40\n",
            "Epoch    54, train loss 0.014243, train error 0.12,  val loss 0.424627, percent error 9.50\n",
            "Epoch    55, train loss 0.013829, train error 0.15,  val loss 0.421451, percent error 9.20\n",
            "Epoch    56, train loss 0.013817, train error 0.12,  val loss 0.426771, percent error 9.60\n",
            "Epoch    57, train loss 0.013974, train error 0.07,  val loss 0.427509, percent error 9.40\n",
            "Epoch    58, train loss 0.013362, train error 0.18,  val loss 0.431788, percent error 9.60\n",
            "Epoch    59, train loss 0.013690, train error 0.18,  val loss 0.438009, percent error 9.70\n",
            "Epoch    60, train loss 0.012812, train error 0.10,  val loss 0.433394, percent error 9.50\n",
            "Epoch    61, train loss 0.012776, train error 0.10,  val loss 0.434291, percent error 9.60\n",
            "Epoch    62, train loss 0.012488, train error 0.10,  val loss 0.435467, percent error 9.40\n",
            "Epoch    63, train loss 0.012211, train error 0.05,  val loss 0.435428, percent error 9.40\n",
            "Epoch    64, train loss 0.012166, train error 0.10,  val loss 0.436915, percent error 9.20\n",
            "Epoch    65, train loss 0.011990, train error 0.10,  val loss 0.437215, percent error 9.40\n",
            "Epoch    66, train loss 0.011965, train error 0.10,  val loss 0.440255, percent error 9.70\n",
            "Epoch    67, train loss 0.011840, train error 0.05,  val loss 0.439369, percent error 9.30\n",
            "Epoch    68, train loss 0.011787, train error 0.10,  val loss 0.439979, percent error 9.10\n",
            "Epoch    69, train loss 0.011609, train error 0.05,  val loss 0.441342, percent error 9.50\n",
            "Epoch    70, train loss 0.011531, train error 0.10,  val loss 0.443023, percent error 9.40\n",
            "Epoch    71, train loss 0.011437, train error 0.05,  val loss 0.444041, percent error 9.60\n",
            "Epoch    72, train loss 0.011919, train error 0.12,  val loss 0.447175, percent error 9.50\n",
            "Epoch    73, train loss 0.011238, train error 0.05,  val loss 0.443341, percent error 9.40\n",
            "Epoch    74, train loss 0.011249, train error 0.05,  val loss 0.445065, percent error 9.70\n",
            "Epoch    75, train loss 0.011058, train error 0.05,  val loss 0.445187, percent error 9.60\n",
            "Epoch    76, train loss 0.010997, train error 0.03,  val loss 0.445835, percent error 9.40\n",
            "Epoch    77, train loss 0.010888, train error 0.05,  val loss 0.446890, percent error 9.40\n",
            "Epoch    78, train loss 0.010775, train error 0.03,  val loss 0.449213, percent error 9.50\n",
            "Epoch    79, train loss 0.010827, train error 0.05,  val loss 0.448532, percent error 9.40\n",
            "Epoch    80, train loss 0.010605, train error 0.05,  val loss 0.449401, percent error 9.60\n",
            "Epoch    81, train loss 0.010702, train error 0.05,  val loss 0.450020, percent error 9.50\n",
            "Epoch    82, train loss 0.010538, train error 0.05,  val loss 0.450491, percent error 9.60\n",
            "Epoch    83, train loss 0.010489, train error 0.03,  val loss 0.449969, percent error 9.60\n",
            "Epoch    84, train loss 0.010440, train error 0.03,  val loss 0.450793, percent error 9.60\n",
            "Epoch    85, train loss 0.010407, train error 0.05,  val loss 0.451869, percent error 9.60\n",
            "Epoch    86, train loss 0.010368, train error 0.03,  val loss 0.451456, percent error 9.60\n",
            "Epoch    87, train loss 0.010326, train error 0.03,  val loss 0.451857, percent error 9.50\n",
            "Epoch    88, train loss 0.010297, train error 0.03,  val loss 0.453439, percent error 9.50\n",
            "Epoch    89, train loss 0.010256, train error 0.05,  val loss 0.452382, percent error 9.60\n",
            "Epoch    90, train loss 0.010286, train error 0.03,  val loss 0.453981, percent error 9.40\n",
            "Epoch    91, train loss 0.010160, train error 0.03,  val loss 0.452906, percent error 9.60\n",
            "Epoch    92, train loss 0.010124, train error 0.03,  val loss 0.454657, percent error 9.60\n",
            "Epoch    93, train loss 0.010161, train error 0.03,  val loss 0.455255, percent error 9.50\n",
            "Epoch    94, train loss 0.010067, train error 0.03,  val loss 0.455178, percent error 9.40\n",
            "Epoch    95, train loss 0.010020, train error 0.03,  val loss 0.456528, percent error 9.70\n",
            "Epoch    96, train loss 0.010027, train error 0.03,  val loss 0.455845, percent error 9.50\n",
            "Epoch    97, train loss 0.009943, train error 0.03,  val loss 0.455058, percent error 9.50\n",
            "Epoch    98, train loss 0.009911, train error 0.03,  val loss 0.457954, percent error 9.60\n",
            "Epoch    99, train loss 0.009896, train error 0.03,  val loss 0.456930, percent error 9.60\n"
          ]
        },
        {
          "data": {
            "image/png": "[encoded data removed]",
            "text/plain": [
              "<Figure size 640x480 with 1 Axes>"
            ]
          },
          "metadata": {},
          "output_type": "display_data"
        }
      ],
      "source": [
        "# choose cross entropy loss function (equation 5.24 in the loss notes)\n",
        "loss_function = nn.CrossEntropyLoss()\n",
        "# construct SGD optimizer and initialize learning rate and momentum\n",
        "optimizer = torch.optim.SGD(model.parameters(), lr = 0.05, momentum=0.9)\n",
        "# object that decreases learning rate by half every 20 epochs\n",
        "scheduler = StepLR(optimizer, step_size=20, gamma=0.5)\n",
        "# create 100 dummy data points and store in data loader class\n",
        "x_train = torch.tensor(train_data_x.transpose().astype('float32'))\n",
        "y_train = torch.tensor(train_data_y.astype('long')).long()\n",
        "x_val= torch.tensor(val_data_x.transpose().astype('float32'))\n",
        "y_val = torch.tensor(val_data_y.astype('long')).long()\n",
        "\n",
        "# load the data into a class that creates the batches\n",
        "data_loader = DataLoader(TensorDataset(x_train,y_train), batch_size=100, shuffle=True, worker_init_fn=np.random.seed(1))\n",
        "\n",
        "# Initialize model weights\n",
        "model.apply(weights_init)\n",
        "\n",
        "# loop over the dataset n_epoch times\n",
        "n_epoch = 100\n",
        "# store the loss and the % correct at each epoch\n",
        "losses_train = np.zeros((n_epoch))\n",
        "errors_train = np.zeros((n_epoch))\n",
        "losses_val = np.zeros((n_epoch))\n",
        "errors_val = np.zeros((n_epoch))\n",
        "\n",
        "for epoch in range(n_epoch):\n",
        "  # loop over batches\n",
        "  for i, data in enumerate(data_loader):\n",
        "    # retrieve inputs and labels for this batch\n",
        "    x_batch, y_batch = data\n",
        "    # zero the parameter gradients\n",
        "    optimizer.zero_grad()\n",
        "    # forward pass -- calculate model output\n",
        "    pred = model(x_batch[:,None,:])\n",
        "    # compute the loss\n",
        "    loss = loss_function(pred, y_batch)\n",
        "    # backward pass\n",
        "    loss.backward()\n",
        "    # SGD update\n",
        "    optimizer.step()\n",
        "\n",
        "  # Run whole dataset to get statistics -- normally wouldn't do this\n",
        "  pred_train = model(x_train[:,None,:])\n",
        "  pred_val = model(x_val[:,None,:])\n",
        "  _, predicted_train_class = torch.max(pred_train.data, 1)\n",
        "  _, predicted_val_class = torch.max(pred_val.data, 1)\n",
        "  errors_train[epoch] = 100 - 100 * (predicted_train_class == y_train).float().sum() / len(y_train)\n",
        "  errors_val[epoch]= 100 - 100 * (predicted_val_class == y_val).float().sum() / len(y_val)\n",
        "  losses_train[epoch] = loss_function(pred_train, y_train).item()\n",
        "  losses_val[epoch]= loss_function(pred_val, y_val).item()\n",
        "  print(f'Epoch {epoch:5d}, train loss {losses_train[epoch]:.6f}, train error {errors_train[epoch]:3.2f},  val loss {losses_val[epoch]:.6f}, percent error {errors_val[epoch]:3.2f}')\n",
        "\n",
        "  # tell scheduler to consider updating learning rate\n",
        "  scheduler.step()\n",
        "\n",
        "# Plot the results\n",
        "fig, ax = plt.subplots()\n",
        "ax.plot(errors_train,'r-',label='train')\n",
        "ax.plot(errors_val,'b-',label='validation')\n",
        "ax.set_ylim(0,100); ax.set_xlim(0,n_epoch)\n",
        "ax.set_xlabel('Epoch'); ax.set_ylabel('Error')\n",
        "ax.set_title('Part I: Validation Result %3.2f'%(errors_val[-1]))\n",
        "ax.legend()\n",
        "plt.show()"
      ]
    }
  ],
  "metadata": {
    "colab": {
      "authorship_tag": "ABX9TyNb46PJB/CC1pcHGfjpUUZg",
      "include_colab_link": true,
      "provenance": []
    },
    "kernelspec": {
      "display_name": "Python 3",
      "name": "python3"
    },
    "language_info": {
      "codemirror_mode": {
        "name": "ipython",
        "version": 3
      },
      "file_extension": ".py",
      "mimetype": "text/x-python",
      "name": "python",
      "nbconvert_exporter": "python",
      "pygments_lexer": "ipython3",
      "version": "3.12.1"
    }
  },
  "nbformat": 4,
  "nbformat_minor": 0
}
